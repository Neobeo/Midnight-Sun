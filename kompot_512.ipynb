{
 "cells": [
  {
   "cell_type": "markdown",
   "metadata": {},
   "source": [
    "# kompot_512 (crypto)\n",
    "\n",
    "In this challenge, we are given two Möbius transformations in $\\mathbb{F}_p$, namely\n",
    "$$f(x) = \\frac{x+2}{3x+4} \\,\\text{ and }\\, g(x) = \\frac{2x+1}{13x+37}.$$\n",
    "\n",
    "We are also given the functions\n",
    "$$A = f^{x_0} \\circ g^{x_1} \\,\\text{ and }\\, B = f^{y_0} \\circ g^{y_1},$$\n",
    "and the aim of the challenge is to recover the value of\n",
    "$$C(0) := (f^{x_0+y_0} \\circ g^{x_1+y_1})(0).$$\n",
    "\n",
    "---\n",
    "\n",
    "The approach we to take is to represent the functions as 2x2 matrices in $\\textrm{PGL}(2,p)$, so that\n",
    "$$f=\\begin{bmatrix}1&2\\\\3&4\\end{bmatrix} \\,\\text{ and }\\, g=\\begin{bmatrix}2&1\\\\13&37\\end{bmatrix},$$\n",
    "and a composition of functions is just a matrix multiplication (modulo a scalar).\n",
    "\n",
    "By extending the field to $\\mathbb{F}_{p^2}$, we can diagonalise both matrices: $f=PDP^{-1}$ and $g=QEQ^{-1}$. In particular, we get\n",
    "$$A = P D^{x_0} P^{-1} Q E^{x_1} Q^{-1},$$\n",
    "which rearranges to the useful form\n",
    "$$\\left(P^{-1} A Q\\right) = D^{x_0} \\left(P^{-1} Q\\right) E^{x_1}.$$\n",
    "\n",
    "In particular, the two parenthesised items are known, while the remaining two are diagonal matrices and can therefore be solved exactly. This allows us to decompose $A$ (without obtaining $x_0$ or $x_1$) and thus obtain $C$ and the flag."
   ]
  },
  {
   "cell_type": "code",
   "execution_count": 1,
   "metadata": {},
   "outputs": [],
   "source": [
    "p = 4225693342127109694461474664875234388636946955456557547956774428518217802668660259782406877400331189882749889992278565317470800599051030042911227853036773\n",
    "F = GF(p^2, name='a', modulus=x^2-2)\n",
    "\n",
    "A = matrix(F, [[1862315654158688869445729098619544799767914409222262298343789666937748284078116837226153354276423115494199511730581944141272923224308137441803678328652676, 1886064375836034840142860936845130575100861943319047776615196816978379039225633008371217989839215828506878694852860682181613624391870390057743279109936146], [1, 2018973312548033623066299353985536867301042832572544233315161976441530811456010904800834151744635603048866029559947352208513799007609932454902351226287612]])\n",
    "B = matrix(F, [[2477394867395824278867886971831335517996362882807219284195631610174019275371358912732296452954721250133176647989002311297549405379103903792349676765146225, 2040810311132675343235393925283389647607439331436941665496443753775265935891731269825908055031216551265890834776911988625202487191269201707297351486226785], [1, 895438207293722465737529431198991226585025118671333535676494582773742283333650849930234578880250608882302630413898903347122190753133069996224669181368029]])\n",
    "\n",
    "D,P = matrix(F, [[1,2],[3,4]]).diagonalization()\n",
    "E,Q = matrix(F, [[2,1],[13,37]]).diagonalization()"
   ]
  },
  {
   "cell_type": "code",
   "execution_count": 2,
   "metadata": {},
   "outputs": [
    {
     "data": {
      "text/plain": [
       "'midnight{3376861921537964672541400365700467193751583514806849485754729332434511031717727819872760853068826617376545669091237756749178566789525020268534935958343010}'"
      ]
     },
     "execution_count": 2,
     "metadata": {},
     "output_type": "execute_result"
    }
   ],
   "source": [
    "u = P^-1*Q\n",
    "v = P^-1*A*Q\n",
    "R = Q * diagonal_matrix([u[0,1]/u[0,0], v[0,1]/v[0,0]]) * Q^-1\n",
    "foo = A * R^-1 * B * R\n",
    "f'midnight{{{foo[0,1]/foo[1,1]}}}'"
   ]
  }
 ],
 "metadata": {
  "kernelspec": {
   "display_name": "SageMath 9.0",
   "language": "sage",
   "name": "sagemath"
  },
  "language_info": {
   "codemirror_mode": {
    "name": "ipython",
    "version": 3
   },
   "file_extension": ".py",
   "mimetype": "text/x-python",
   "name": "python",
   "nbconvert_exporter": "python",
   "pygments_lexer": "ipython3",
   "version": "3.8.10"
  }
 },
 "nbformat": 4,
 "nbformat_minor": 4
}
