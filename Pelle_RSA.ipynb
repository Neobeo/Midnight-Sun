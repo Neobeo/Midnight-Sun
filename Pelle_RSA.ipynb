{
 "cells": [
  {
   "cell_type": "markdown",
   "metadata": {},
   "source": [
    "# Pelle's Rotor-Supported Arithmetic (crypto)\n",
    "\n",
    "This is a standard RSA challenge, with the added bonus that we can query something that manipulates $d$. Specifically, you can provide a base $c$ and a rotation amount $i$, and it will rotate the decimal representation of $d$ left by $i$ steps, then the oracle will tell you `pow(c, rotor(d, i), n)`. The challenge is thus to leak $d$.\n",
    "\n",
    "The first step is to leak $n$, which we can do by letting `(c,i)=(-1,0)`.\n",
    "\n",
    "The next idea is to notice that you can link two oracle values in this way:\n",
    "- Suppose you have a smaller example with $d=314159$, and make two queries `(2,0)` and `(2,1)`.\n",
    "- You get $r = 2^{314159}$ and $s = 2^{141593}$.\n",
    "- Then you have two ways of forming $2^{3141593}$, namely $r^{10} \\cdot 2^3 = s \\cdot 2^{3 \\times 10^6}$.\n",
    "- The \"3\" here is an unknown, but by knowing `r` and `s` you can just brute-force (locally) all 10 possible digits.\n",
    "- Additionally, in the first step you don't know the length of $d$, but from the challenge it's likely to be between 306 and 309 inclusive.\n",
    "\n",
    "So the plan is that the first step is slightly heavier because you have to guess the length as well, and subsequent steps are shorter because you already know the length. Now, because 10 is such a small number to brute force, we instead choose to skip 2 digits at a time and brute force over 100 possibilities. This is just an aesthetic decision and doesn't affect the solution."
   ]
  },
  {
   "cell_type": "code",
   "execution_count": 1,
   "metadata": {},
   "outputs": [],
   "source": [
    "from pwn import *\n",
    "from tqdm import trange\n",
    "from Crypto.Util.number import long_to_bytes\n",
    "from math import isqrt"
   ]
  },
  {
   "cell_type": "code",
   "execution_count": 2,
   "metadata": {},
   "outputs": [
    {
     "name": "stdout",
     "output_type": "stream",
     "text": [
      "[x] Opening connection to pelle-01.hfsc.tf on port 4591\n",
      "[x] Opening connection to pelle-01.hfsc.tf on port 4591: Trying 159.65.24.100\n",
      "[+] Opening connection to pelle-01.hfsc.tf on port 4591: Done\n",
      "ef=38472369479330817284470725572557699354671892874140360225093249123807422689575697431459769243490515430225070907323779024621916267683075124489839093003363458348819521180068938611239726138319523799056746792085184682064924292637267952233681355598069903759048181691592104467133991048147706829863953183279851392375\n",
      "n=43047796890477362990074961769201922093931501549521114743916627406636416622979445051218421149675256799232393301700370094540087679119082880899747691935251456178408503271262210863920917237676311115019888447360967178340255706657371448083420218420057544839628399548904356647638728064251771091862957676254700954117\n"
     ]
    },
    {
     "name": "stderr",
     "output_type": "stream",
     "text": [
      "100%|██████████| 160/160 [00:26<00:00,  6.12it/s]\n"
     ]
    }
   ],
   "source": [
    "sh = remote('pelle-01.hfsc.tf', 4591)\n",
    "sh.recvuntil(b'encrypted flag ')\n",
    "ef = int(sh.recvline())\n",
    "print(f'{ef=}')\n",
    "\n",
    "def get(c,i):\n",
    "    sh.sendline(f'1\\n{c}\\n{i}'.encode())\n",
    "    sh.recvuntil(b'rot:\\n')\n",
    "    return int(sh.recvline())\n",
    "n=get(-1,0)+1\n",
    "print(f'{n=}')\n",
    "ps = [get(2,2*i) for i in trange(160)]"
   ]
  },
  {
   "cell_type": "code",
   "execution_count": 3,
   "metadata": {
    "scrolled": true
   },
   "outputs": [
    {
     "name": "stdout",
     "output_type": "stream",
     "text": [
      "dl=308\n"
     ]
    },
    {
     "name": "stderr",
     "output_type": "stream",
     "text": [
      "100%|██████████| 153/153 [00:21<00:00,  7.16it/s]"
     ]
    },
    {
     "name": "stdout",
     "output_type": "stream",
     "text": [
      "d=27674287480195801722658014392785989313845949971533997686660899124104025285859437857972359428690936714607919108095274315625722478853856599143509311634893475488768721169431521077251366133165140420429800291880801747490176817398575093644983093206936398362605552523502972162034264567777255223024221794336695299713\n"
     ]
    },
    {
     "name": "stderr",
     "output_type": "stream",
     "text": [
      "\n"
     ]
    }
   ],
   "source": [
    "def solve(dls, diff, p0, p1):\n",
    "    if isinstance(dls, int):\n",
    "        dls = [dls]\n",
    "    for dl in dls:\n",
    "        for hi in range(0, 10**diff):\n",
    "            t0 = pow(p0,10**diff,n)*pow(2,hi,n)\n",
    "            t1 = p1*pow(2,hi*10**dl,n)\n",
    "            if (t0 - t1) % n == 0:\n",
    "                return hi, dl\n",
    "            \n",
    "soln0, dl = solve([306,307,308,309], 2, ps[0], ps[1])\n",
    "print(f'{dl=}') # length of d\n",
    "solns = [solve(dl, 2, ps[i], ps[i+1])[0] for i in trange(1,154)]\n",
    "d=int(''.join(f'{i:02}' for i in [soln0]+solns)[:dl])\n",
    "print(f'{d=}')"
   ]
  },
  {
   "cell_type": "markdown",
   "metadata": {},
   "source": [
    "Hooray, we've successfully leaked $d$. All that's left is to get $p$ and $q$ back out of this, so that we can get our flag."
   ]
  },
  {
   "cell_type": "code",
   "execution_count": 4,
   "metadata": {},
   "outputs": [
    {
     "data": {
      "text/plain": [
       "b'midnight{twist_and_turn}'"
      ]
     },
     "execution_count": 4,
     "metadata": {},
     "output_type": "execute_result"
    }
   ],
   "source": [
    "e=65537\n",
    "k=int(d*e/n+0.5)\n",
    "b=(n+1-(d*e-1)//k)//2\n",
    "\n",
    "p=b-isqrt(b**2-n)\n",
    "q=b+isqrt(b**2-n)\n",
    "assert p*q==n\n",
    "\n",
    "long_to_bytes(pow(ef, pow(3331646268016923629, -1, (p-1)*(q-1)), n))"
   ]
  }
 ],
 "metadata": {
  "kernelspec": {
   "display_name": "Python 3",
   "language": "python",
   "name": "python3"
  },
  "language_info": {
   "codemirror_mode": {
    "name": "ipython",
    "version": 3
   },
   "file_extension": ".py",
   "mimetype": "text/x-python",
   "name": "python",
   "nbconvert_exporter": "python",
   "pygments_lexer": "ipython3",
   "version": "3.8.10"
  }
 },
 "nbformat": 4,
 "nbformat_minor": 4
}
