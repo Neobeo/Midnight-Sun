{
 "cells": [
  {
   "cell_type": "markdown",
   "metadata": {},
   "source": [
    "# BabyZK (crypto)\n",
    "\n",
    "In this challenge, we have a safe prime $p$, a degree-15 polynomial $m$ in $\\mathbb{F}_p$, and a generator $g$ of $\\mathbb{F}_p^\\times$, none of which are revealed to us. Instead, we have an oracle that can tell us the value of $g^{m(x)}$ for any $x$ we give it, but only 17 times. And then, in turn, we have to prove that we now know the value of $g^{m(x)}$ for all $x$.\n",
    "\n",
    "The first self-evident fact we use is that we know 15 pairs of ($x$, $m(x)$), and we can obtain the values of all $m(x)$ as a linear combination of these 15. The linearity here is important, since we can \"lift\" the linearity into something we can calculate on our end, i.e.\n",
    "$$g^{a m(x) + b} = \\left(g^{m(x)}\\right)^a g^b.$$\n",
    "\n",
    "Except we cannot actually calculate the RHS of that equation without knowing $p$, so we will need to leak $p$ somehow. For a start, if we ignore the \"mod-p\"-ness of it we can still calculate the RHS but end up with something very large. And then we can compare this to an actual 16th value of $g^{m(x)}$ queried to the oracle, then we have two numbers that are known to be equal mod $p$. The caveat here is we cannot actually take a negative power, but we can always just move that to the other side.\n",
    "\n",
    "So, a 16th query gives us a multiple of $p$, and if we are lucky we can factorise out small factors. Otherwise, we are given a 17th query anyway so we can obtain yet another multiple of $p$ this way. Now we can take the gcd of these two, and are much more likely to get the true $p$ (maybe still factorise out small factors just in case)."
   ]
  },
  {
   "cell_type": "code",
   "execution_count": 1,
   "metadata": {},
   "outputs": [],
   "source": [
    "from pwn import *\n",
    "from sage.all import *\n",
    "from tqdm import trange"
   ]
  },
  {
   "cell_type": "code",
   "execution_count": 2,
   "metadata": {
    "scrolled": true
   },
   "outputs": [
    {
     "data": {
      "text/plain": [
       "[     1      0   -120   1120  -5460  17472 -40040  68640 -90090  91520 -72072  43680 -20020   6720  -1560    224    -15]\n",
       "[     0      1    -15    105   -455   1365  -3003   5005  -6435   6435  -5005   3003  -1365    455   -105     15     -1]"
      ]
     },
     "execution_count": 2,
     "metadata": {},
     "output_type": "execute_result"
    }
   ],
   "source": [
    "mat = matrix([[a**i for i in range(15)[::-1]] for a in range(17)])\n",
    "ker = matrix(mat.kernel().basis())\n",
    "ker"
   ]
  },
  {
   "cell_type": "markdown",
   "metadata": {},
   "source": [
    "We have a 2-dimensional kernel as expected, and for each element in the basis we can take the positives to one side and negatives to the other, multiply them out, and get a difference that is guaranteed to be a multiple of $p$.\n",
    "\n",
    "That said, we are potentially dealing with some large numbers, e.g. there's a 90090 in there, and a 1024-bit number taken to the power of 90090 is huge. We use LLL to try to reduce the basis to something more tangible."
   ]
  },
  {
   "cell_type": "code",
   "execution_count": 3,
   "metadata": {},
   "outputs": [
    {
     "data": {
      "text/plain": [
       "[    1   -14    90  -350   910 -1638  2002 -1430     0  1430 -2002  1638  -910   350   -90    14    -1]\n",
       "[    0     1   -15   105  -455  1365 -3003  5005 -6435  6435 -5005  3003 -1365   455  -105    15    -1]"
      ]
     },
     "execution_count": 3,
     "metadata": {},
     "output_type": "execute_result"
    }
   ],
   "source": [
    "ker = ker.LLL()\n",
    "ker"
   ]
  },
  {
   "cell_type": "markdown",
   "metadata": {},
   "source": [
    "There, much better. All that's left is to get our 17 pairs (we can just use 0 to 16), and be on our way!"
   ]
  },
  {
   "cell_type": "code",
   "execution_count": 4,
   "metadata": {
    "scrolled": true
   },
   "outputs": [
    {
     "name": "stdout",
     "output_type": "stream",
     "text": [
      "[x] Opening connection to babyzk-01.hfsc.tf on port 4590\n",
      "[x] Opening connection to babyzk-01.hfsc.tf on port 4590: Trying 159.65.24.100\n",
      "[+] Opening connection to babyzk-01.hfsc.tf on port 4590: Done\n",
      "got proofs\n",
      "p.nbits()=1025\n",
      "p=186545829008915486081349235204194662613552063467070259300995581148452197614154813603872996153043490077697203112683470125198616204854218030130987551848701864290627846430235305557522066407877425140407944127150384706950180268511143513804663027126983176152898976672461383039178578788291326387946167353596286766407\n"
     ]
    }
   ],
   "source": [
    "sh = remote('babyzk-01.hfsc.tf',4590)\n",
    "sh.recvuntil(b'Exit.\\n')\n",
    "def getval(n):\n",
    "    sh.sendlines([b'1', str(n).encode()])\n",
    "    return int(sh.recvline().decode()[2:-1:])\n",
    "\n",
    "proofs = [getval(i) for i in range(17)]\n",
    "print('got proofs')\n",
    "\n",
    "tmp0 = product(a**i for i,a in zip(ker[0], proofs) if i > 0) - product(a**-i for i,a in zip(ker[0], proofs) if i < 0)\n",
    "tmp1 = product(a**i for i,a in zip(ker[1], proofs) if i > 0) - product(a**-i for i,a in zip(ker[1], proofs) if i < 0)\n",
    "p = gcd([tmp0, tmp1])\n",
    "for i in range(2, 10000):\n",
    "    while p % i == 0:\n",
    "        p = p // i\n",
    "print(f'{p.nbits()=}')\n",
    "print(f'{p=}')\n",
    "F = GF(p)"
   ]
  },
  {
   "cell_type": "code",
   "execution_count": 5,
   "metadata": {
    "scrolled": true
   },
   "outputs": [
    {
     "name": "stderr",
     "output_type": "stream",
     "text": [
      "100%|██████████| 100/100 [07:14<00:00,  4.34s/it]"
     ]
    },
    {
     "name": "stdout",
     "output_type": "stream",
     "text": [
      "[x] Receiving all data\n",
      "[x] Receiving all data: 0B\n",
      "[x] Receiving all data: 40B\n",
      "[+] Receiving all data: Done (40B)\n",
      "[*] Closed connection to babyzk-01.hfsc.tf port 4590\n"
     ]
    },
    {
     "name": "stderr",
     "output_type": "stream",
     "text": [
      "\n"
     ]
    },
    {
     "data": {
      "text/plain": [
       "b'midnight{n0t_h4rd_3ven_w1th0ut_modulu5}\\n'"
      ]
     },
     "execution_count": 5,
     "metadata": {},
     "output_type": "execute_result"
    }
   ],
   "source": [
    "sh.sendline(b'2')\n",
    "for _ in trange(100):\n",
    "    want = int(sh.recvline())\n",
    "    vec = vector([want**i for i in range(15)[::-1]])\n",
    "    soln = mat.solve_left(vec)\n",
    "    F = GF(p)\n",
    "    finalanswer = product(F(a)**i for i,a in zip(soln, proofs))\n",
    "    sh.sendline(str(finalanswer).encode())\n",
    "\n",
    "sh.sendline(b'3')    \n",
    "sh.recvall()"
   ]
  }
 ],
 "metadata": {
  "kernelspec": {
   "display_name": "Python 3",
   "language": "python",
   "name": "python3"
  },
  "language_info": {
   "codemirror_mode": {
    "name": "ipython",
    "version": 3
   },
   "file_extension": ".py",
   "mimetype": "text/x-python",
   "name": "python",
   "nbconvert_exporter": "python",
   "pygments_lexer": "ipython3",
   "version": "3.8.10"
  }
 },
 "nbformat": 4,
 "nbformat_minor": 4
}
