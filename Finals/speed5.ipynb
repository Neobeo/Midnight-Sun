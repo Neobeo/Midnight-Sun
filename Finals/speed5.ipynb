{
 "cells": [
  {
   "cell_type": "markdown",
   "id": "22590458",
   "metadata": {},
   "source": [
    "# Speed 5 (rev)\n",
    "\n",
    "Challenge file is provided in [speed5](speed5).\n",
    "\n",
    "Speed 1-4 were all incredibly speedy (solved in under half an hour), so there's no reason to expect this to be any different right? Right? (Hint: We were wrong.)\n",
    "\n",
    "It took us about 2.5 hours to solve this challenge, albeit with a breakfast break in between. Anyway, the first thing to note is that you don't really get that much \"actual logic\" from IDA Pro (or any other disassembler/decompiler really). This is because it is quite a barebones VM, and really the only thing it does it to invoke a function in the VM called VERIFY. So we have to look at the code that gets parsed by the VM instead.\n",
    "\n",
    "Well, we can take a shortcut and just look at the ASCII dump of the data section, as it has function names littered all around. We also place red lines to distinguish what we believe are different segments (mainly because it comes right before a LAMBDA):\n",
    "\n",
    "![speed_dump2](speed_dump2.png)\n",
    "\n",
    "The last section shows the eight functions that are defined natively: MAX, DIV, CONS, CDR, CAR, NAND, MUL, SUB. Most of these are easily inferable, and we note that [CAR and CDR](https://en.wikipedia.org/wiki/CAR_and_CDR) refers to the head and tail of a Lisp linked list. I have zero experience with Lisp, but have seen similar formulations in F# and Haskell so it wasn't completely unfamiliar territory.\n",
    "\n",
    "The rest are functions defined within the VM, some of these you can reasonably infer what they might do from the name:\n",
    "* OR(x, y) = NAND(NOT(x), NOT(y))\n",
    "* NOT(x) = NAND(x, x)\n",
    "* ADD(x, y) = SUB(x, SUB(0, y))\n",
    "* MOD(x, y) = SUB(x, MUL(DIV(x,y), y))\n",
    "* FOLD(...) is a bit harder to read due to the IF, but it very likely does a [fold](https://en.wikipedia.org/wiki/Fold_(higher-order_function))\n",
    "\n",
    "Which leaves VERIFY, HASH, HELPER, MASSAGE, and LOLWTF. We can make some reasonable guesses from these:\n",
    "* VERIFY(x,y) = if( OR(SUB(HASH(x), ???), SUB(HASH(y), ???) )) then ???\n",
    "* HASH(x) = fold the HELPER function over LOLWTF(x)\n",
    "* MASSAGE(x) = MOD(MUL(SUB(MAX(x, ???), ???), ???), ???)\n",
    "* HELPER(x) = ADD(MASSAGE(MUL(x, ???), ???), ???)\n",
    "* LOLWTF = ???????\n",
    "\n",
    "These are very vague guesses, but at this stage it would greatly help us to hook into the SUB function and record all subtractions. Assuming we've inferred it correctly, then we are simply comparing a function of our string against a target hash. We use Qiling to do this, by hooking at 0x2264:\n",
    "\n",
    "![speed_dump3](speed_dump3.png)"
   ]
  },
  {
   "cell_type": "code",
   "execution_count": 1,
   "id": "71bb04ab",
   "metadata": {
    "scrolled": false
   },
   "outputs": [
    {
     "data": {
      "text/plain": [
       "[('0x4000000000000074', '0x400000000000005f'),\n",
       " ('0x4000000000000111', '0x40000000000000f8'),\n",
       " ('0x4000000000000000', '0x4000000000000000'),\n",
       " ('0x4000000000000019', '0x4000000000000000'),\n",
       " ('0x4000000000000065', '0x400000000000005f'),\n",
       " ('0x400000000000004e', '0x400000000000003e'),\n",
       " ('0x4000000000000000', '0x4000000000000307'),\n",
       " ('0x4000000000000010', '0x7ffffffffffffcf9'),\n",
       " ('0x4000000000000317', '0x468a49b35ef1a677'),\n",
       " ('0x4000000000000073', '0x400000000000005f'),\n",
       " ('0x4000000000000104', '0x40000000000000f8'),\n",
       " ('0x4000000000000000', '0x4000000000000000'),\n",
       " ('0x400000000000000c', '0x4000000000000000'),\n",
       " ('0x4000000000000074', '0x400000000000005f'),\n",
       " ('0x4000000000000111', '0x40000000000000f8'),\n",
       " ('0x4000000000000000', '0x4000000000000174'),\n",
       " ('0x4000000000000019', '0x7ffffffffffffe8c'),\n",
       " ('0x400000000000018d', '0x4a9ee44a73efff1e')]"
      ]
     },
     "execution_count": 1,
     "metadata": {},
     "output_type": "execute_result"
    }
   ],
   "source": [
    "from qiling import Qiling\n",
    "from qiling.const import QL_VERBOSE\n",
    "\n",
    "# run with our input string, and record the two arguments everytime we hit 0x2264\n",
    "def get_subtract_pairs(s):\n",
    "    def check(ql):\n",
    "        arg1 = ql.arch.regs.rax\n",
    "        arg2 = ql.unpack(ql.mem.read(ql.arch.regs.rdx, 8))\n",
    "        foo.append((arg1, arg2))\n",
    "    foo = []\n",
    "    ql = Qiling(['speed5', s], 'x8664_linux', verbose=QL_VERBOSE.OFF)\n",
    "    ql.hook_address(check, 0x2264 + ql.loader.load_address)\n",
    "    ql.run()\n",
    "    return foo\n",
    "\n",
    "[(hex(a),hex(b)) for a,b in get_subtract_pairs('test')]"
   ]
  },
  {
   "cell_type": "code",
   "execution_count": 2,
   "id": "d86f9b92",
   "metadata": {},
   "outputs": [
    {
     "data": {
      "text/plain": [
       "[('0x4000000000000000', '0x468a49b35ef1a677'),\n",
       " ('0x4000000000000061', '0x400000000000005f'),\n",
       " ('0x400000000000001a', '0x4000000000000000'),\n",
       " ('0x4000000000000000', '0x4000000000000000'),\n",
       " ('0x400000000000001a', '0x4000000000000000'),\n",
       " ('0x400000000000001a', '0x4a9ee44a73efff1e')]"
      ]
     },
     "execution_count": 2,
     "metadata": {},
     "output_type": "execute_result"
    }
   ],
   "source": [
    "# Let's try a shorter string next?\n",
    "[(hex(a),hex(b)) for a,b in get_subtract_pairs('a')]"
   ]
  },
  {
   "cell_type": "markdown",
   "id": "bc1f97aa",
   "metadata": {},
   "source": [
    "A number of things strike out at us almost immediately:\n",
    "* The second highest bit is always set (which is why you have to AND with 0x3FFFFFFFFFFFFFFF)\n",
    "* The highest bit is sometimes set? This is presumably part of an ADD\n",
    "* There are two random-looking values that are constant, these are presumably the target hashes\n",
    "\n",
    "In any case, let's see if we can produce the hashes for a number of inputs."
   ]
  },
  {
   "cell_type": "code",
   "execution_count": 3,
   "id": "71ed2f34",
   "metadata": {},
   "outputs": [
    {
     "name": "stdout",
     "output_type": "stream",
     "text": [
      "a: 0, 26\n",
      "aa: 26, 26\n",
      "aaa: 26, 832\n",
      "aaaa: 832, 832\n",
      "aaaaa: 832, 25818\n",
      "b: 0, 8\n",
      "bb: 8, 8\n",
      "bbb: 8, 256\n",
      "bbbb: 256, 256\n",
      "bbbbb: 256, 7944\n",
      "ab: 8, 26\n",
      "ba: 26, 8\n",
      "c: 0, 21\n",
      "d: 0, 3\n",
      "e: 0, 16\n",
      "A: 0, 0\n",
      "B: 0, 0\n",
      "midnight: 755631, 720870\n"
     ]
    }
   ],
   "source": [
    "def test(x):\n",
    "    arr = get_subtract_pairs(x)\n",
    "    h1 = next(a&0x3FFFFFFFFFFFFFFF for a,b in arr if b==0x468a49b35ef1a677)\n",
    "    h2 = next(a&0x3FFFFFFFFFFFFFFF for a,b in arr if b==0x4a9ee44a73efff1e)\n",
    "    print(f'{x}: {h1}, {h2}')\n",
    "    \n",
    "test('a')\n",
    "test('aa')\n",
    "test('aaa')\n",
    "test('aaaa')\n",
    "test('aaaaa')\n",
    "test('b')\n",
    "test('bb')\n",
    "test('bbb')\n",
    "test('bbbb')\n",
    "test('bbbbb')\n",
    "test('ab')\n",
    "test('ba')\n",
    "test('c')\n",
    "test('d')\n",
    "test('e')\n",
    "test('A')\n",
    "test('B')\n",
    "test('midnight')"
   ]
  },
  {
   "cell_type": "markdown",
   "id": "d8c7bb13",
   "metadata": {},
   "source": [
    "The natural thing to infer from this is that longer strings have larger hashes, and it looks like it splits the strings into the two halves, with the first half being shorter if necessary.\n",
    "\n",
    "We notice that uppercase letters don't do anything, and the lowercase ones go 26 -> 8 -> 21 -> 3 -> 16, which is an addition of 13 (mod 31). Likewise, we notice that:\n",
    "* 832 = 26 \\* (31 + 1)\n",
    "* 25818 = 26 \\* (31^2 + 31 + 1)\n",
    "* 256 = 8 \\* (31^2 + 31 + 1)\n",
    "* 7944 = 8 \\* (31^2 + 31 + 1)\n",
    "\n",
    "So that it is just a base-31 string, which each letter multiplied by 13 (then adding some offset)."
   ]
  },
  {
   "cell_type": "code",
   "execution_count": 4,
   "id": "dd692d82",
   "metadata": {},
   "outputs": [
    {
     "name": "stdout",
     "output_type": "stream",
     "text": [
      "b'ingt'\n",
      "b'mdih'\n"
     ]
    }
   ],
   "source": [
    "def split_base31(n): \n",
    "    return [n%31] + split_base31(n//31) if n else []\n",
    "\n",
    "def decode_base31(n):\n",
    "    return bytes((i*pow(13,-1,31)-2)%31+97 for i in split_base31(n))\n",
    "\n",
    "print(decode_base31(755631)) # expect 'midn'\n",
    "print(decode_base31(720870)) # expect 'ight'"
   ]
  },
  {
   "cell_type": "markdown",
   "id": "88e7ac89",
   "metadata": {},
   "source": [
    "Well, we messed up the theory slightly. It's not exactly halves, but interleaved letters."
   ]
  },
  {
   "cell_type": "code",
   "execution_count": 5,
   "id": "3fd9c4f4",
   "metadata": {},
   "outputs": [
    {
     "name": "stdout",
     "output_type": "stream",
     "text": [
      "b'ingtseddsre}'\n",
      "b'mdih{pe~iodr'\n",
      "b'midnight{speed~disorder}'\n"
     ]
    }
   ],
   "source": [
    "s1 = decode_base31(0x468a49b35ef1a677&0x3FFFFFFFFFFFFFFF)\n",
    "s2 = decode_base31(0x4a9ee44a73efff1e&0x3FFFFFFFFFFFFFFF)\n",
    "print(s1)\n",
    "print(s2)\n",
    "print(b''.join(bytes([a,b]) for a,b in zip(s2,s1)))"
   ]
  },
  {
   "cell_type": "markdown",
   "id": "e1badfda",
   "metadata": {},
   "source": [
    "That looks like a valid flag! Except that `~` is ASCII 126 and `_` is ASCII 95 (so congruent mod 31). And we had arbitrarily assumed that it begins with ASCII 97 (`a`), when it really probably begins at 95 (cannot be 94 since we need `}`).\n",
    "\n",
    "The flag is thus `midnight{speed_disorder}`."
   ]
  }
 ],
 "metadata": {
  "kernelspec": {
   "display_name": "Python 3 (ipykernel)",
   "language": "python",
   "name": "python3"
  },
  "language_info": {
   "codemirror_mode": {
    "name": "ipython",
    "version": 3
   },
   "file_extension": ".py",
   "mimetype": "text/x-python",
   "name": "python",
   "nbconvert_exporter": "python",
   "pygments_lexer": "ipython3",
   "version": "3.10.4"
  }
 },
 "nbformat": 4,
 "nbformat_minor": 5
}
